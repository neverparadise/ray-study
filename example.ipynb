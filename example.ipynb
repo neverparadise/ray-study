{
 "cells": [
  {
   "cell_type": "code",
   "execution_count": 7,
   "metadata": {},
   "outputs": [
    {
     "name": "stdout",
     "output_type": "stream",
     "text": [
      "Requirement already satisfied: ray==1.13.0 in /home/slowlab/anaconda3/envs/metarl/lib/python3.9/site-packages (1.13.0)\n",
      "Requirement already satisfied: filelock in /home/slowlab/anaconda3/envs/metarl/lib/python3.9/site-packages (from ray==1.13.0) (3.8.0)\n",
      "Requirement already satisfied: frozenlist in /home/slowlab/anaconda3/envs/metarl/lib/python3.9/site-packages (from ray==1.13.0) (1.3.1)\n",
      "Requirement already satisfied: virtualenv in /home/slowlab/anaconda3/envs/metarl/lib/python3.9/site-packages (from ray==1.13.0) (20.16.3)\n",
      "Requirement already satisfied: click<=8.0.4,>=7.0 in /home/slowlab/anaconda3/envs/metarl/lib/python3.9/site-packages (from ray==1.13.0) (8.0.4)\n",
      "Requirement already satisfied: aiosignal in /home/slowlab/anaconda3/envs/metarl/lib/python3.9/site-packages (from ray==1.13.0) (1.2.0)\n",
      "Requirement already satisfied: requests in /home/slowlab/anaconda3/envs/metarl/lib/python3.9/site-packages (from ray==1.13.0) (2.28.1)\n",
      "Requirement already satisfied: grpcio<=1.43.0,>=1.28.1 in /home/slowlab/anaconda3/envs/metarl/lib/python3.9/site-packages (from ray==1.13.0) (1.43.0)\n",
      "Requirement already satisfied: msgpack<2.0.0,>=1.0.0 in /home/slowlab/anaconda3/envs/metarl/lib/python3.9/site-packages (from ray==1.13.0) (1.0.4)\n",
      "Requirement already satisfied: jsonschema in /home/slowlab/anaconda3/envs/metarl/lib/python3.9/site-packages (from ray==1.13.0) (4.9.1)\n",
      "Requirement already satisfied: protobuf<4.0.0,>=3.15.3 in /home/slowlab/anaconda3/envs/metarl/lib/python3.9/site-packages (from ray==1.13.0) (3.19.4)\n",
      "Requirement already satisfied: pyyaml in /home/slowlab/anaconda3/envs/metarl/lib/python3.9/site-packages (from ray==1.13.0) (6.0)\n",
      "Requirement already satisfied: numpy>=1.19.3 in /home/slowlab/anaconda3/envs/metarl/lib/python3.9/site-packages (from ray==1.13.0) (1.22.4)\n",
      "Requirement already satisfied: attrs in /home/slowlab/anaconda3/envs/metarl/lib/python3.9/site-packages (from ray==1.13.0) (22.1.0)\n",
      "Requirement already satisfied: six>=1.5.2 in /home/slowlab/anaconda3/envs/metarl/lib/python3.9/site-packages (from grpcio<=1.43.0,>=1.28.1->ray==1.13.0) (1.16.0)\n",
      "Requirement already satisfied: pyrsistent!=0.17.0,!=0.17.1,!=0.17.2,>=0.14.0 in /home/slowlab/anaconda3/envs/metarl/lib/python3.9/site-packages (from jsonschema->ray==1.13.0) (0.18.1)\n",
      "Requirement already satisfied: idna<4,>=2.5 in /home/slowlab/anaconda3/envs/metarl/lib/python3.9/site-packages (from requests->ray==1.13.0) (3.3)\n",
      "Requirement already satisfied: urllib3<1.27,>=1.21.1 in /home/slowlab/anaconda3/envs/metarl/lib/python3.9/site-packages (from requests->ray==1.13.0) (1.26.11)\n",
      "Requirement already satisfied: charset-normalizer<3,>=2 in /home/slowlab/anaconda3/envs/metarl/lib/python3.9/site-packages (from requests->ray==1.13.0) (2.1.0)\n",
      "Requirement already satisfied: certifi>=2017.4.17 in /home/slowlab/anaconda3/envs/metarl/lib/python3.9/site-packages (from requests->ray==1.13.0) (2022.6.15)\n",
      "Requirement already satisfied: distlib<1,>=0.3.5 in /home/slowlab/anaconda3/envs/metarl/lib/python3.9/site-packages (from virtualenv->ray==1.13.0) (0.3.5)\n",
      "Requirement already satisfied: platformdirs<3,>=2.4 in /home/slowlab/anaconda3/envs/metarl/lib/python3.9/site-packages (from virtualenv->ray==1.13.0) (2.5.2)\n",
      "Requirement already satisfied: ray[rllib,serve,tune] in /home/slowlab/anaconda3/envs/metarl/lib/python3.9/site-packages (1.13.0)\n",
      "Requirement already satisfied: pyyaml in /home/slowlab/anaconda3/envs/metarl/lib/python3.9/site-packages (from ray[rllib,serve,tune]) (6.0)\n",
      "Requirement already satisfied: virtualenv in /home/slowlab/anaconda3/envs/metarl/lib/python3.9/site-packages (from ray[rllib,serve,tune]) (20.16.3)\n",
      "Requirement already satisfied: attrs in /home/slowlab/anaconda3/envs/metarl/lib/python3.9/site-packages (from ray[rllib,serve,tune]) (22.1.0)\n",
      "Requirement already satisfied: numpy>=1.19.3 in /home/slowlab/anaconda3/envs/metarl/lib/python3.9/site-packages (from ray[rllib,serve,tune]) (1.22.4)\n",
      "Requirement already satisfied: filelock in /home/slowlab/anaconda3/envs/metarl/lib/python3.9/site-packages (from ray[rllib,serve,tune]) (3.8.0)\n",
      "Requirement already satisfied: jsonschema in /home/slowlab/anaconda3/envs/metarl/lib/python3.9/site-packages (from ray[rllib,serve,tune]) (4.9.1)\n",
      "Requirement already satisfied: frozenlist in /home/slowlab/anaconda3/envs/metarl/lib/python3.9/site-packages (from ray[rllib,serve,tune]) (1.3.1)\n",
      "Requirement already satisfied: msgpack<2.0.0,>=1.0.0 in /home/slowlab/anaconda3/envs/metarl/lib/python3.9/site-packages (from ray[rllib,serve,tune]) (1.0.4)\n",
      "Requirement already satisfied: aiosignal in /home/slowlab/anaconda3/envs/metarl/lib/python3.9/site-packages (from ray[rllib,serve,tune]) (1.2.0)\n",
      "Requirement already satisfied: click<=8.0.4,>=7.0 in /home/slowlab/anaconda3/envs/metarl/lib/python3.9/site-packages (from ray[rllib,serve,tune]) (8.0.4)\n",
      "Requirement already satisfied: grpcio<=1.43.0,>=1.28.1 in /home/slowlab/anaconda3/envs/metarl/lib/python3.9/site-packages (from ray[rllib,serve,tune]) (1.43.0)\n",
      "Requirement already satisfied: protobuf<4.0.0,>=3.15.3 in /home/slowlab/anaconda3/envs/metarl/lib/python3.9/site-packages (from ray[rllib,serve,tune]) (3.19.4)\n",
      "Requirement already satisfied: requests in /home/slowlab/anaconda3/envs/metarl/lib/python3.9/site-packages (from ray[rllib,serve,tune]) (2.28.1)\n",
      "Requirement already satisfied: tensorboardX>=1.9 in /home/slowlab/anaconda3/envs/metarl/lib/python3.9/site-packages (from ray[rllib,serve,tune]) (2.5.1)\n",
      "Requirement already satisfied: tabulate in /home/slowlab/anaconda3/envs/metarl/lib/python3.9/site-packages (from ray[rllib,serve,tune]) (0.8.10)\n",
      "Requirement already satisfied: pandas in /home/slowlab/anaconda3/envs/metarl/lib/python3.9/site-packages (from ray[rllib,serve,tune]) (1.4.3)\n",
      "Requirement already satisfied: uvicorn==0.16.0 in /home/slowlab/anaconda3/envs/metarl/lib/python3.9/site-packages (from ray[rllib,serve,tune]) (0.16.0)\n",
      "Requirement already satisfied: gpustat>=1.0.0b1 in /home/slowlab/anaconda3/envs/metarl/lib/python3.9/site-packages (from ray[rllib,serve,tune]) (1.0.0rc1)\n",
      "Requirement already satisfied: aiorwlock in /home/slowlab/anaconda3/envs/metarl/lib/python3.9/site-packages (from ray[rllib,serve,tune]) (1.3.0)\n",
      "Requirement already satisfied: colorful in /home/slowlab/anaconda3/envs/metarl/lib/python3.9/site-packages (from ray[rllib,serve,tune]) (0.5.4)\n",
      "Requirement already satisfied: prometheus-client<0.14.0,>=0.7.1 in /home/slowlab/anaconda3/envs/metarl/lib/python3.9/site-packages (from ray[rllib,serve,tune]) (0.13.1)\n",
      "Requirement already satisfied: starlette in /home/slowlab/anaconda3/envs/metarl/lib/python3.9/site-packages (from ray[rllib,serve,tune]) (0.19.1)\n",
      "Requirement already satisfied: aiohttp-cors in /home/slowlab/anaconda3/envs/metarl/lib/python3.9/site-packages (from ray[rllib,serve,tune]) (0.7.0)\n",
      "Requirement already satisfied: aiohttp>=3.7 in /home/slowlab/anaconda3/envs/metarl/lib/python3.9/site-packages (from ray[rllib,serve,tune]) (3.8.1)\n",
      "Requirement already satisfied: smart-open in /home/slowlab/anaconda3/envs/metarl/lib/python3.9/site-packages (from ray[rllib,serve,tune]) (6.0.0)\n",
      "Requirement already satisfied: fastapi in /home/slowlab/anaconda3/envs/metarl/lib/python3.9/site-packages (from ray[rllib,serve,tune]) (0.79.0)\n",
      "Requirement already satisfied: py-spy>=0.2.0 in /home/slowlab/anaconda3/envs/metarl/lib/python3.9/site-packages (from ray[rllib,serve,tune]) (0.3.12)\n",
      "Requirement already satisfied: opencensus in /home/slowlab/anaconda3/envs/metarl/lib/python3.9/site-packages (from ray[rllib,serve,tune]) (0.11.0)\n",
      "Requirement already satisfied: matplotlib!=3.4.3 in /home/slowlab/anaconda3/envs/metarl/lib/python3.9/site-packages (from ray[rllib,serve,tune]) (3.5.2)\n",
      "Requirement already satisfied: scipy in /home/slowlab/anaconda3/envs/metarl/lib/python3.9/site-packages (from ray[rllib,serve,tune]) (1.9.0)\n",
      "Requirement already satisfied: gym<0.22 in /home/slowlab/anaconda3/envs/metarl/lib/python3.9/site-packages (from ray[rllib,serve,tune]) (0.21.0)\n",
      "Requirement already satisfied: scikit-image in /home/slowlab/anaconda3/envs/metarl/lib/python3.9/site-packages (from ray[rllib,serve,tune]) (0.19.3)\n",
      "Requirement already satisfied: dm-tree in /home/slowlab/anaconda3/envs/metarl/lib/python3.9/site-packages (from ray[rllib,serve,tune]) (0.1.7)\n",
      "Requirement already satisfied: lz4 in /home/slowlab/anaconda3/envs/metarl/lib/python3.9/site-packages (from ray[rllib,serve,tune]) (4.0.2)\n",
      "Requirement already satisfied: h11>=0.8 in /home/slowlab/anaconda3/envs/metarl/lib/python3.9/site-packages (from uvicorn==0.16.0->ray[rllib,serve,tune]) (0.13.0)\n",
      "Requirement already satisfied: asgiref>=3.4.0 in /home/slowlab/anaconda3/envs/metarl/lib/python3.9/site-packages (from uvicorn==0.16.0->ray[rllib,serve,tune]) (3.5.2)\n",
      "Requirement already satisfied: async-timeout<5.0,>=4.0.0a3 in /home/slowlab/anaconda3/envs/metarl/lib/python3.9/site-packages (from aiohttp>=3.7->ray[rllib,serve,tune]) (4.0.2)\n",
      "Requirement already satisfied: yarl<2.0,>=1.0 in /home/slowlab/anaconda3/envs/metarl/lib/python3.9/site-packages (from aiohttp>=3.7->ray[rllib,serve,tune]) (1.8.1)\n",
      "Requirement already satisfied: multidict<7.0,>=4.5 in /home/slowlab/anaconda3/envs/metarl/lib/python3.9/site-packages (from aiohttp>=3.7->ray[rllib,serve,tune]) (6.0.2)\n",
      "Requirement already satisfied: charset-normalizer<3.0,>=2.0 in /home/slowlab/anaconda3/envs/metarl/lib/python3.9/site-packages (from aiohttp>=3.7->ray[rllib,serve,tune]) (2.1.0)\n",
      "Requirement already satisfied: nvidia-ml-py<=11.495.46,>=11.450.129 in /home/slowlab/anaconda3/envs/metarl/lib/python3.9/site-packages (from gpustat>=1.0.0b1->ray[rllib,serve,tune]) (11.495.46)\n",
      "Requirement already satisfied: blessed>=1.17.1 in /home/slowlab/anaconda3/envs/metarl/lib/python3.9/site-packages (from gpustat>=1.0.0b1->ray[rllib,serve,tune]) (1.19.1)\n",
      "Requirement already satisfied: psutil>=5.6.0 in /home/slowlab/anaconda3/envs/metarl/lib/python3.9/site-packages (from gpustat>=1.0.0b1->ray[rllib,serve,tune]) (5.9.1)\n",
      "Requirement already satisfied: six>=1.7 in /home/slowlab/anaconda3/envs/metarl/lib/python3.9/site-packages (from gpustat>=1.0.0b1->ray[rllib,serve,tune]) (1.16.0)\n",
      "Requirement already satisfied: cloudpickle>=1.2.0 in /home/slowlab/anaconda3/envs/metarl/lib/python3.9/site-packages (from gym<0.22->ray[rllib,serve,tune]) (2.1.0)\n",
      "Requirement already satisfied: cycler>=0.10 in /home/slowlab/anaconda3/envs/metarl/lib/python3.9/site-packages (from matplotlib!=3.4.3->ray[rllib,serve,tune]) (0.11.0)\n",
      "Requirement already satisfied: python-dateutil>=2.7 in /home/slowlab/anaconda3/envs/metarl/lib/python3.9/site-packages (from matplotlib!=3.4.3->ray[rllib,serve,tune]) (2.8.2)\n",
      "Requirement already satisfied: pillow>=6.2.0 in /home/slowlab/anaconda3/envs/metarl/lib/python3.9/site-packages (from matplotlib!=3.4.3->ray[rllib,serve,tune]) (9.2.0)\n",
      "Requirement already satisfied: fonttools>=4.22.0 in /home/slowlab/anaconda3/envs/metarl/lib/python3.9/site-packages (from matplotlib!=3.4.3->ray[rllib,serve,tune]) (4.34.4)\n",
      "Requirement already satisfied: packaging>=20.0 in /home/slowlab/anaconda3/envs/metarl/lib/python3.9/site-packages (from matplotlib!=3.4.3->ray[rllib,serve,tune]) (21.3)\n",
      "Requirement already satisfied: kiwisolver>=1.0.1 in /home/slowlab/anaconda3/envs/metarl/lib/python3.9/site-packages (from matplotlib!=3.4.3->ray[rllib,serve,tune]) (1.4.4)\n",
      "Requirement already satisfied: pyparsing>=2.2.1 in /home/slowlab/anaconda3/envs/metarl/lib/python3.9/site-packages (from matplotlib!=3.4.3->ray[rllib,serve,tune]) (3.0.9)\n",
      "Requirement already satisfied: pydantic!=1.7,!=1.7.1,!=1.7.2,!=1.7.3,!=1.8,!=1.8.1,<2.0.0,>=1.6.2 in /home/slowlab/anaconda3/envs/metarl/lib/python3.9/site-packages (from fastapi->ray[rllib,serve,tune]) (1.9.2)\n",
      "Requirement already satisfied: typing-extensions>=3.10.0 in /home/slowlab/anaconda3/envs/metarl/lib/python3.9/site-packages (from starlette->ray[rllib,serve,tune]) (4.3.0)\n",
      "Requirement already satisfied: anyio<5,>=3.4.0 in /home/slowlab/anaconda3/envs/metarl/lib/python3.9/site-packages (from starlette->ray[rllib,serve,tune]) (3.6.1)\n",
      "Requirement already satisfied: pyrsistent!=0.17.0,!=0.17.1,!=0.17.2,>=0.14.0 in /home/slowlab/anaconda3/envs/metarl/lib/python3.9/site-packages (from jsonschema->ray[rllib,serve,tune]) (0.18.1)\n",
      "Requirement already satisfied: opencensus-context>=0.1.3 in /home/slowlab/anaconda3/envs/metarl/lib/python3.9/site-packages (from opencensus->ray[rllib,serve,tune]) (0.1.3)\n",
      "Requirement already satisfied: google-api-core<3.0.0,>=1.0.0 in /home/slowlab/anaconda3/envs/metarl/lib/python3.9/site-packages (from opencensus->ray[rllib,serve,tune]) (2.8.2)\n",
      "Requirement already satisfied: pytz>=2020.1 in /home/slowlab/anaconda3/envs/metarl/lib/python3.9/site-packages (from pandas->ray[rllib,serve,tune]) (2022.1)\n",
      "Requirement already satisfied: urllib3<1.27,>=1.21.1 in /home/slowlab/anaconda3/envs/metarl/lib/python3.9/site-packages (from requests->ray[rllib,serve,tune]) (1.26.11)\n",
      "Requirement already satisfied: certifi>=2017.4.17 in /home/slowlab/anaconda3/envs/metarl/lib/python3.9/site-packages (from requests->ray[rllib,serve,tune]) (2022.6.15)\n",
      "Requirement already satisfied: idna<4,>=2.5 in /home/slowlab/anaconda3/envs/metarl/lib/python3.9/site-packages (from requests->ray[rllib,serve,tune]) (3.3)\n",
      "Requirement already satisfied: PyWavelets>=1.1.1 in /home/slowlab/anaconda3/envs/metarl/lib/python3.9/site-packages (from scikit-image->ray[rllib,serve,tune]) (1.3.0)\n",
      "Requirement already satisfied: imageio>=2.4.1 in /home/slowlab/anaconda3/envs/metarl/lib/python3.9/site-packages (from scikit-image->ray[rllib,serve,tune]) (2.21.0)\n",
      "Requirement already satisfied: tifffile>=2019.7.26 in /home/slowlab/anaconda3/envs/metarl/lib/python3.9/site-packages (from scikit-image->ray[rllib,serve,tune]) (2022.8.12)\n",
      "Requirement already satisfied: networkx>=2.2 in /home/slowlab/anaconda3/envs/metarl/lib/python3.9/site-packages (from scikit-image->ray[rllib,serve,tune]) (2.8.5)\n",
      "Requirement already satisfied: distlib<1,>=0.3.5 in /home/slowlab/anaconda3/envs/metarl/lib/python3.9/site-packages (from virtualenv->ray[rllib,serve,tune]) (0.3.5)\n",
      "Requirement already satisfied: platformdirs<3,>=2.4 in /home/slowlab/anaconda3/envs/metarl/lib/python3.9/site-packages (from virtualenv->ray[rllib,serve,tune]) (2.5.2)\n",
      "Requirement already satisfied: sniffio>=1.1 in /home/slowlab/anaconda3/envs/metarl/lib/python3.9/site-packages (from anyio<5,>=3.4.0->starlette->ray[rllib,serve,tune]) (1.2.0)\n",
      "Requirement already satisfied: wcwidth>=0.1.4 in /home/slowlab/anaconda3/envs/metarl/lib/python3.9/site-packages (from blessed>=1.17.1->gpustat>=1.0.0b1->ray[rllib,serve,tune]) (0.2.5)\n",
      "Requirement already satisfied: google-auth<3.0dev,>=1.25.0 in /home/slowlab/anaconda3/envs/metarl/lib/python3.9/site-packages (from google-api-core<3.0.0,>=1.0.0->opencensus->ray[rllib,serve,tune]) (2.9.1)\n",
      "Requirement already satisfied: googleapis-common-protos<2.0dev,>=1.56.2 in /home/slowlab/anaconda3/envs/metarl/lib/python3.9/site-packages (from google-api-core<3.0.0,>=1.0.0->opencensus->ray[rllib,serve,tune]) (1.56.4)\n",
      "Requirement already satisfied: rsa<5,>=3.1.4 in /home/slowlab/anaconda3/envs/metarl/lib/python3.9/site-packages (from google-auth<3.0dev,>=1.25.0->google-api-core<3.0.0,>=1.0.0->opencensus->ray[rllib,serve,tune]) (4.9)\n",
      "Requirement already satisfied: pyasn1-modules>=0.2.1 in /home/slowlab/anaconda3/envs/metarl/lib/python3.9/site-packages (from google-auth<3.0dev,>=1.25.0->google-api-core<3.0.0,>=1.0.0->opencensus->ray[rllib,serve,tune]) (0.2.8)\n",
      "Requirement already satisfied: cachetools<6.0,>=2.0.0 in /home/slowlab/anaconda3/envs/metarl/lib/python3.9/site-packages (from google-auth<3.0dev,>=1.25.0->google-api-core<3.0.0,>=1.0.0->opencensus->ray[rllib,serve,tune]) (5.2.0)\n",
      "Requirement already satisfied: pyasn1<0.5.0,>=0.4.6 in /home/slowlab/anaconda3/envs/metarl/lib/python3.9/site-packages (from pyasn1-modules>=0.2.1->google-auth<3.0dev,>=1.25.0->google-api-core<3.0.0,>=1.0.0->opencensus->ray[rllib,serve,tune]) (0.4.8)\n"
     ]
    }
   ],
   "source": [
    "!pip install ray==1.13.0\n",
    "!pip install pyarrow\n",
    "!pip install -U \"ray[tune, rllib, serve]\""
   ]
  },
  {
   "cell_type": "code",
   "execution_count": 12,
   "metadata": {},
   "outputs": [],
   "source": [
    "ray.shutdown()"
   ]
  },
  {
   "cell_type": "code",
   "execution_count": 13,
   "metadata": {},
   "outputs": [
    {
     "name": "stderr",
     "output_type": "stream",
     "text": [
      "2022-08-16 14:07:30,815\tINFO services.py:1470 -- View the Ray dashboard at \u001b[1m\u001b[32mhttp://127.0.0.1:8265\u001b[39m\u001b[22m\n"
     ]
    },
    {
     "data": {
      "text/plain": [
       "RayContext(dashboard_url='127.0.0.1:8265', python_version='3.9.7', ray_version='1.13.0', ray_commit='e4ce38d001dbbe09cd21c497fedd03d692b2be3e', address_info={'node_ip_address': '192.168.0.41', 'raylet_ip_address': '192.168.0.41', 'redis_address': None, 'object_store_address': '/tmp/ray/session_2022-08-16_14-07-29_075568_2586524/sockets/plasma_store', 'raylet_socket_name': '/tmp/ray/session_2022-08-16_14-07-29_075568_2586524/sockets/raylet', 'webui_url': '127.0.0.1:8265', 'session_dir': '/tmp/ray/session_2022-08-16_14-07-29_075568_2586524', 'metrics_export_port': 64688, 'gcs_address': '192.168.0.41:62056', 'address': '192.168.0.41:62056', 'node_id': '5ca2d18696a5f121f014f99aa97030dffdf8ee4307368fb21443e181'})"
      ]
     },
     "execution_count": 13,
     "metadata": {},
     "output_type": "execute_result"
    }
   ],
   "source": [
    "import ray\n",
    "ray.init()"
   ]
  },
  {
   "cell_type": "code",
   "execution_count": 14,
   "metadata": {},
   "outputs": [
    {
     "ename": "ImportError",
     "evalue": "Run `pip install pyarrow` for Arrow support",
     "output_type": "error",
     "traceback": [
      "\u001b[0;31m---------------------------------------------------------------------------\u001b[0m",
      "\u001b[0;31mImportError\u001b[0m                               Traceback (most recent call last)",
      "\u001b[1;32m/home/slowlab/Desktop/ray-study/example.ipynb 셀 4\u001b[0m in \u001b[0;36m<cell line: 3>\u001b[0;34m()\u001b[0m\n\u001b[1;32m      <a href='vscode-notebook-cell:/home/slowlab/Desktop/ray-study/example.ipynb#W2sZmlsZQ%3D%3D?line=0'>1</a>\u001b[0m \u001b[39m# ex1-2\u001b[39;00m\n\u001b[1;32m      <a href='vscode-notebook-cell:/home/slowlab/Desktop/ray-study/example.ipynb#W2sZmlsZQ%3D%3D?line=1'>2</a>\u001b[0m items \u001b[39m=\u001b[39m [{\u001b[39m\"\u001b[39m\u001b[39mname\u001b[39m\u001b[39m\"\u001b[39m: \u001b[39mstr\u001b[39m(i), \u001b[39m\"\u001b[39m\u001b[39mdata\u001b[39m\u001b[39m\"\u001b[39m: i} \u001b[39mfor\u001b[39;00m i \u001b[39min\u001b[39;00m \u001b[39mrange\u001b[39m(\u001b[39m10000\u001b[39m)]\n\u001b[0;32m----> <a href='vscode-notebook-cell:/home/slowlab/Desktop/ray-study/example.ipynb#W2sZmlsZQ%3D%3D?line=2'>3</a>\u001b[0m ds \u001b[39m=\u001b[39m ray\u001b[39m.\u001b[39;49mdata\u001b[39m.\u001b[39;49mfrom_items(items)\n\u001b[1;32m      <a href='vscode-notebook-cell:/home/slowlab/Desktop/ray-study/example.ipynb#W2sZmlsZQ%3D%3D?line=3'>4</a>\u001b[0m ds\u001b[39m.\u001b[39mshow(\u001b[39m5\u001b[39m)\n",
      "File \u001b[0;32m~/anaconda3/envs/metarl/lib/python3.9/site-packages/ray/data/read_api.py:96\u001b[0m, in \u001b[0;36mfrom_items\u001b[0;34m(items, parallelism)\u001b[0m\n\u001b[1;32m     94\u001b[0m builder \u001b[39m=\u001b[39m DelegatingBlockBuilder()\n\u001b[1;32m     95\u001b[0m \u001b[39mfor\u001b[39;00m item \u001b[39min\u001b[39;00m items[i : i \u001b[39m+\u001b[39m block_size]:\n\u001b[0;32m---> 96\u001b[0m     builder\u001b[39m.\u001b[39;49madd(item)\n\u001b[1;32m     97\u001b[0m block \u001b[39m=\u001b[39m builder\u001b[39m.\u001b[39mbuild()\n\u001b[1;32m     98\u001b[0m blocks\u001b[39m.\u001b[39mappend(ray\u001b[39m.\u001b[39mput(block))\n",
      "File \u001b[0;32m~/anaconda3/envs/metarl/lib/python3.9/site-packages/ray/data/impl/delegating_block_builder.py:24\u001b[0m, in \u001b[0;36mDelegatingBlockBuilder.add\u001b[0;34m(self, item)\u001b[0m\n\u001b[1;32m     21\u001b[0m \u001b[39mimport\u001b[39;00m \u001b[39mpyarrow\u001b[39;00m\n\u001b[1;32m     23\u001b[0m \u001b[39mtry\u001b[39;00m:\n\u001b[0;32m---> 24\u001b[0m     check \u001b[39m=\u001b[39m ArrowBlockBuilder()\n\u001b[1;32m     25\u001b[0m     check\u001b[39m.\u001b[39madd(item)\n\u001b[1;32m     26\u001b[0m     check\u001b[39m.\u001b[39mbuild()\n",
      "File \u001b[0;32m~/anaconda3/envs/metarl/lib/python3.9/site-packages/ray/data/impl/arrow_block.py:77\u001b[0m, in \u001b[0;36mArrowBlockBuilder.__init__\u001b[0;34m(self)\u001b[0m\n\u001b[1;32m     75\u001b[0m \u001b[39mdef\u001b[39;00m \u001b[39m__init__\u001b[39m(\u001b[39mself\u001b[39m):\n\u001b[1;32m     76\u001b[0m     \u001b[39mif\u001b[39;00m pyarrow \u001b[39mis\u001b[39;00m \u001b[39mNone\u001b[39;00m:\n\u001b[0;32m---> 77\u001b[0m         \u001b[39mraise\u001b[39;00m \u001b[39mImportError\u001b[39;00m(\u001b[39m\"\u001b[39m\u001b[39mRun `pip install pyarrow` for Arrow support\u001b[39m\u001b[39m\"\u001b[39m)\n\u001b[1;32m     78\u001b[0m     \u001b[39msuper\u001b[39m()\u001b[39m.\u001b[39m\u001b[39m__init__\u001b[39m(pyarrow\u001b[39m.\u001b[39mTable)\n",
      "\u001b[0;31mImportError\u001b[0m: Run `pip install pyarrow` for Arrow support"
     ]
    }
   ],
   "source": [
    "# ex1-2\n",
    "items = [{\"name\": str(i), \"data\": i} for i in range(10000)]\n",
    "ds = ray.data.from_items(items)\n",
    "ds.show(5)"
   ]
  },
  {
   "cell_type": "code",
   "execution_count": null,
   "metadata": {},
   "outputs": [],
   "source": []
  }
 ],
 "metadata": {
  "kernelspec": {
   "display_name": "Python 3.9.7 ('metarl')",
   "language": "python",
   "name": "python3"
  },
  "language_info": {
   "codemirror_mode": {
    "name": "ipython",
    "version": 3
   },
   "file_extension": ".py",
   "mimetype": "text/x-python",
   "name": "python",
   "nbconvert_exporter": "python",
   "pygments_lexer": "ipython3",
   "version": "3.9.7"
  },
  "orig_nbformat": 4,
  "vscode": {
   "interpreter": {
    "hash": "602af6ba2c762df5425894700aca7a686bdc286b801cb310dc15d0b2fd5a52f2"
   }
  }
 },
 "nbformat": 4,
 "nbformat_minor": 2
}
